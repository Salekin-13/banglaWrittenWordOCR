{
 "cells": [
  {
   "cell_type": "code",
   "execution_count": 1,
   "metadata": {},
   "outputs": [
    {
     "name": "stdout",
     "output_type": "stream",
     "text": [
      "Filtered words have been written to data/bangla_words.txt.\n"
     ]
    }
   ],
   "source": [
    "input_file_path = \"E:\\comm2\\BengaliWordList_112.txt\"\n",
    "output_file_path = \"data/bangla_words.txt\"\n",
    "\n",
    "# Open the input file for reading\n",
    "with open(input_file_path, 'r', encoding='utf-8') as input_file:\n",
    "    # Read lines from the input file\n",
    "    lines = input_file.readlines()\n",
    "\n",
    "# Filter words based on conditions (exclude words with ',', '-', and '\"')\n",
    "filtered_words = [word.strip() for word in lines if '\\'' not in word and '-' not in word]\n",
    "\n",
    "# Open the output file for writing\n",
    "with open(output_file_path, 'w', encoding='utf-8') as output_file:\n",
    "    # Write the filtered words to the output file\n",
    "    output_file.write('\\n'.join(filtered_words))\n",
    "\n",
    "print(f\"Filtered words have been written to {output_file_path}.\")\n"
   ]
  },
  {
   "cell_type": "code",
   "execution_count": 2,
   "metadata": {},
   "outputs": [
    {
     "name": "stdout",
     "output_type": "stream",
     "text": [
      "\n",
      "Total Bangla sentences: 1 \n",
      "bn_corpus file saved in the data/ folder \n"
     ]
    }
   ],
   "source": [
    "%run preprocess.py"
   ]
  },
  {
   "cell_type": "code",
   "execution_count": 3,
   "metadata": {},
   "outputs": [
    {
     "name": "stdout",
     "output_type": "stream",
     "text": [
      "1\n",
      "Training Completed. File saved as \"word2vec_new\" in the results folder \n"
     ]
    }
   ],
   "source": [
    "%run train.py"
   ]
  },
  {
   "cell_type": "code",
   "execution_count": 4,
   "metadata": {},
   "outputs": [
    {
     "name": "stdout",
     "output_type": "stream",
     "text": [
      "Pretrained weights successfully saved.\n"
     ]
    }
   ],
   "source": [
    "%run export_weights.py"
   ]
  },
  {
   "cell_type": "code",
   "execution_count": 5,
   "metadata": {},
   "outputs": [],
   "source": [
    "from gensim.models import Word2Vec\n",
    "\n",
    "# Load your trained Word2Vec model (replace 'your_model_path' with the actual path to your model)\n",
    "model = Word2Vec.load('results/word2vec_new.model')\n",
    "\n",
    "# Save the model in the 'bnword2vec.txt' format\n",
    "model.wv.save_word2vec_format('bnword2vec.txt', binary=False)\n"
   ]
  },
  {
   "cell_type": "code",
   "execution_count": 6,
   "metadata": {},
   "outputs": [],
   "source": [
    "import gensim\n",
    "\n",
    "model = gensim.models.KeyedVectors.load_word2vec_format('bnword2vec.txt')"
   ]
  },
  {
   "cell_type": "code",
   "execution_count": 8,
   "metadata": {},
   "outputs": [
    {
     "name": "stdout",
     "output_type": "stream",
     "text": [
      "'অকালকুষ্ফন্ড' is not in the vocabulary.\n",
      "The closest word is 'অকালকুষ্মাণ্ড'\n"
     ]
    }
   ],
   "source": [
    "import difflib\n",
    "\n",
    "word = 'অকালকুষ্ফন্ড'  # Bengali word for electron\n",
    "\n",
    "if word in model:\n",
    "    similar_words = model.similar_by_word(word)\n",
    "    print(f\"Words similar to '{word}':\")\n",
    "    for similar_word, similarity in similar_words:\n",
    "        print(f\"{similar_word}: {similarity}\")\n",
    "else:\n",
    "    vocab = model.index_to_key\n",
    "    closest_word = difflib.get_close_matches(word, vocab, n=1)\n",
    "    if closest_word:\n",
    "        closest_word = closest_word[0]\n",
    "        print(f\"'{word}' is not in the vocabulary.\")\n",
    "        print(f\"The closest word is '{closest_word}'\")\n",
    "    else:\n",
    "        print(f\"No similar word found in the model's vocabulary or through difflib.\")\n"
   ]
  },
  {
   "cell_type": "code",
   "execution_count": null,
   "metadata": {},
   "outputs": [],
   "source": []
  }
 ],
 "metadata": {
  "kernelspec": {
   "display_name": "Python 3",
   "language": "python",
   "name": "python3"
  },
  "language_info": {
   "codemirror_mode": {
    "name": "ipython",
    "version": 3
   },
   "file_extension": ".py",
   "mimetype": "text/x-python",
   "name": "python",
   "nbconvert_exporter": "python",
   "pygments_lexer": "ipython3",
   "version": "3.11.4"
  }
 },
 "nbformat": 4,
 "nbformat_minor": 2
}
